{
 "cells": [
  {
   "cell_type": "markdown",
   "metadata": {},
   "source": [
    "# Zomato Challenges/Findings - Project 1 \n",
    "\n",
    "Presenters: Sylvia Blake, Calley Breslau, Chris Jordan, Kayla Swanson"
   ]
  },
  {
   "cell_type": "markdown",
   "metadata": {},
   "source": [
    "## API Data Collection & Manipulation:\n",
    "\n",
    "There were twelve API options listed on the Zomato documentation page.  Having determined that we would look at Italian restaurants in Colorado, we reviewed a few of the API's to determine which would be most useful. The search API was selected.  An example of its use stated: \"To search for 'Italian' restaurants in 'Manhattan, New York City', set cuisines = 55, entity_id = 94741 and entity_type = zone\".  Other examples also indicated using the entity_id for identifying the city. \n",
    "\n",
    "<b>Issue</b>: Using the entity_id as part of the parameter dictionary returned data inconsistent with what we expected. <br>\n",
    "<b>Resolution</b>: Having tried other possiblities to get the restaurant data for one of our targeted cities, we eventually tried the city_id obtained from the location/details documentation and found success with this ID.\n",
    "\n",
    "<b>Issue</b>: The cuisine type was comprised of multiple genres of cuisines and were incorporated into the data set if Italian was one of them. <br> \n",
    "<b>Resolution</b>: Cuisines were consolidated under a new dataframe column, Ultimate_Food_Type, and made to equal \"Italian.\"\n",
    "\n",
    "<b>Issue</b>: Desired data was pulled for Denver, however when graphed by rating, we noticed that one bar was darker than the others.  Upon further inspection, the top twenty results contained two entries for one restaurant and their data overlayed each other. A similar observation was made when graphed by pricing, however, these two restaurants had different prices per two individuals.<br>\n",
    "<b>Resolution</b>: We used the dataframe.at Panda function applied to the column index to rename one of the Maggiano’s Little Italy to just Maggiano Little Italy to pull in all 20 data points without impacting the sort function of the graph.\n",
    "\n"
   ]
  },
  {
   "cell_type": "markdown",
   "metadata": {},
   "source": [
    "## Code Troubleshooting\n",
    "\n",
    "<b>Issue</b>: Data sorting results were unpredictable on a rate sort of the Denver dataframe. <br>\n",
    "<b>Resolution</b>: The recommended review of the type of Rating and Price revealed that they were strings. Fields were cast astype(float) and data sorted numerically. \n",
    "\n",
    "<b>Issue</b>: Unable to create a legend for price/ratings scatter plot.  Scatter plot was created using combined dataframe x,y elements with city color mapped to keys/values of a created dictionary. <br>\n",
    "<b>Temporary Resolution</b>: Created plt.text(s) with city names in their respective marker colors. <br>\n",
    "<b>Final Resolution</b>: Used TA recommended code from Stackoverflow - searched 'dictionary to legend.'"
   ]
  },
  {
   "cell_type": "code",
   "execution_count": null,
   "metadata": {},
   "outputs": [],
   "source": []
  }
 ],
 "metadata": {
  "kernelspec": {
   "display_name": "Python 3",
   "language": "python",
   "name": "python3"
  },
  "language_info": {
   "codemirror_mode": {
    "name": "ipython",
    "version": 3
   },
   "file_extension": ".py",
   "mimetype": "text/x-python",
   "name": "python",
   "nbconvert_exporter": "python",
   "pygments_lexer": "ipython3",
   "version": "3.7.3"
  }
 },
 "nbformat": 4,
 "nbformat_minor": 2
}
